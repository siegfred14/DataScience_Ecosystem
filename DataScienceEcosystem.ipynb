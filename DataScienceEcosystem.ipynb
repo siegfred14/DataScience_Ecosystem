{
 "cells": [
  {
   "cell_type": "markdown",
   "id": "9f6f0a4f-99c7-4f09-b74c-3c2a9d031c7f",
   "metadata": {},
   "source": [
    "# Data Science Tools and Ecosystem"
   ]
  },
  {
   "cell_type": "markdown",
   "id": "7f185e0a-6dce-4b11-9306-ddf0b0e337bb",
   "metadata": {},
   "source": [
    "In this notebook, Data Science Tools and Ecosystem are summarized."
   ]
  },
  {
   "cell_type": "markdown",
   "id": "a82169a7-a254-4b26-a2a4-63e4cbf19f3e",
   "metadata": {},
   "source": [
    "**Objectives:**\n",
    "- Create a markdown cell to list data science languages\n",
    "- Create a markdown cell to list data science libraries\n",
    "- Create a markdown cell with a table of Data Science tools\n",
    "- Create a markdown cell introducing arithmetic expression examples\n",
    "- Create a code cell to multiply and add numbers"
   ]
  },
  {
   "cell_type": "markdown",
   "id": "5b08cd7c-c883-4e92-9c16-5519fb0f3c23",
   "metadata": {
    "tags": []
   },
   "source": [
    "Some of the popular languages that Data Scientists use are:\n",
    "1. Python\n",
    "2. R\n",
    "3. Julia\n",
    "4. SQL\n",
    "5. Java"
   ]
  },
  {
   "cell_type": "markdown",
   "id": "35311f06-f04d-45a3-8675-d01739ce38fb",
   "metadata": {},
   "source": [
    "Some of the commonly used libraries used by Data Scientists include:\n",
    "1. Pandas\n",
    "2. Numpy\n",
    "3. Matplotlib\n",
    "4. Seaborn\n",
    "5. Scikit-learn\n",
    "6. Keras\n",
    "7. TensorFlow\n",
    "8. Pytorch\n",
    "9. Apache Spark\n",
    "10. Vegas"
   ]
  },
  {
   "cell_type": "markdown",
   "id": "ce2f4692-2d30-4f55-8849-dffffb37a6b1",
   "metadata": {},
   "source": [
    "|Data Science Tools|\n",
    "|---------------|\n",
    "|RStudio|\n",
    "|Jupyter Notebook|\n",
    "|Git|"
   ]
  },
  {
   "cell_type": "markdown",
   "id": "cf5c63cd-ccb5-4297-912e-663bccd163ab",
   "metadata": {},
   "source": [
    "### Below are a few examples of evaluating arithmetic expressions in Python"
   ]
  },
  {
   "cell_type": "code",
   "execution_count": 2,
   "id": "e9567930-069a-4bea-b788-4ae96d17e513",
   "metadata": {
    "tags": []
   },
   "outputs": [
    {
     "data": {
      "text/plain": [
       "17"
      ]
     },
     "execution_count": 2,
     "metadata": {},
     "output_type": "execute_result"
    }
   ],
   "source": [
    "# This a simple arithmetic expression to mutiply then add integers\n",
    "(3*4)+5"
   ]
  },
  {
   "cell_type": "code",
   "execution_count": 7,
   "id": "c70dbf1f-6272-47dc-ba0c-31795ed61724",
   "metadata": {
    "tags": []
   },
   "outputs": [
    {
     "data": {
      "text/plain": [
       "3.3333333333333335"
      ]
     },
     "execution_count": 7,
     "metadata": {},
     "output_type": "execute_result"
    }
   ],
   "source": [
    "# This will convert 200 minutes to hours by diving by 60\n",
    "min = 200\n",
    "hour = 60\n",
    "convert = min/hour\n",
    "convert"
   ]
  },
  {
   "cell_type": "markdown",
   "id": "c73c040f-0067-45df-a445-27d5ae53f763",
   "metadata": {},
   "source": [
    "## Author\n",
    "Siegfred Samson"
   ]
  },
  {
   "cell_type": "code",
   "execution_count": null,
   "id": "ba414729-6426-4be0-af8f-bb17d7bc15ce",
   "metadata": {},
   "outputs": [],
   "source": []
  }
 ],
 "metadata": {
  "kernelspec": {
   "display_name": "Python",
   "language": "python",
   "name": "conda-env-python-py"
  },
  "language_info": {
   "codemirror_mode": {
    "name": "ipython",
    "version": 3
   },
   "file_extension": ".py",
   "mimetype": "text/x-python",
   "name": "python",
   "nbconvert_exporter": "python",
   "pygments_lexer": "ipython3",
   "version": "3.7.12"
  }
 },
 "nbformat": 4,
 "nbformat_minor": 5
}
